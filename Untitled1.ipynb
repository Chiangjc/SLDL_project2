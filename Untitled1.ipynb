{
 "cells": [
  {
   "cell_type": "code",
   "execution_count": 4,
   "id": "fb667d33",
   "metadata": {},
   "outputs": [
    {
     "name": "stdout",
     "output_type": "stream",
     "text": [
      "平均結果已保存到 result_average.csv\n"
     ]
    }
   ],
   "source": [
    "import pandas as pd\n",
    "\n",
    "# 讀取三個結果 CSV 文件\n",
    "csv1 = pd.read_csv(\"minipj2/test_efficient.csv\")#covnext 0.6012\n",
    "csv2 = pd.read_csv(\"minipj2/test_convnext.csv\")#efficient\n",
    "csv3 = pd.read_csv(\"minipj2/test_predictions.csv\")#desenet121 0.59\n",
    "\n",
    "# 確保文件結構一致\n",
    "assert csv1.shape == csv2.shape == csv3.shape, \"CSV 文件形狀不一致\"\n",
    "assert all(csv1.columns == csv2.columns) and all(csv1.columns == csv3.columns), \"CSV 文件列名不一致\"\n",
    "\n",
    "# 提取第一列（例如 ID 列），保留原始值\n",
    "first_column = csv1.iloc[:, 0]  # 提取第一列\n",
    "numeric_columns = csv1.iloc[:, 1:]  # 提取數值列\n",
    "\n",
    "# 對數值列取平均\n",
    "average_numeric = (csv1.iloc[:, 1:]*2 + csv2.iloc[:, 1:] + csv3.iloc[:, 1:]) / 4\n",
    "\n",
    "# 合併第一列和數值平均列\n",
    "average_csv = pd.concat([first_column, average_numeric], axis=1)\n",
    "\n",
    "# 保存結果到新文件\n",
    "average_csv.to_csv(\"test_2.csv\", index=False)\n",
    "print(\"平均結果已保存到 result_average.csv\")\n"
   ]
  },
  {
   "cell_type": "code",
   "execution_count": null,
   "id": "2b23d01d",
   "metadata": {},
   "outputs": [],
   "source": [
    "# efficient old\n",
    "# Train Loss: 0.0206, Valid Loss: 0.0472, mAP: 0.6286, Accuracy: 0.5108"
   ]
  },
  {
   "cell_type": "code",
   "execution_count": null,
   "id": "f45c5c38",
   "metadata": {},
   "outputs": [],
   "source": [
    "# efficient \n",
    "# Train Loss: 0.0056, Valid Loss: 0.0513, mAP: 0.6737, Accuracy: 0.5609"
   ]
  },
  {
   "cell_type": "code",
   "execution_count": null,
   "id": "7c657fb0",
   "metadata": {},
   "outputs": [],
   "source": [
    "resnet50_dropout\n",
    "# Train Loss: 0.0446, Valid Loss: 0.0394, mAP: 0.6117, Accuracy: 0.4251"
   ]
  },
  {
   "cell_type": "code",
   "execution_count": null,
   "id": "c7f22ea0",
   "metadata": {},
   "outputs": [],
   "source": [
    "convnext_small\n",
    "# Train Loss: 0.0103, Valid Loss: 0.0434, mAP: 0.6854, Accuracy: 0.5373"
   ]
  }
 ],
 "metadata": {
  "kernelspec": {
   "display_name": "Python 3 (ipykernel)",
   "language": "python",
   "name": "python3"
  },
  "language_info": {
   "codemirror_mode": {
    "name": "ipython",
    "version": 3
   },
   "file_extension": ".py",
   "mimetype": "text/x-python",
   "name": "python",
   "nbconvert_exporter": "python",
   "pygments_lexer": "ipython3",
   "version": "3.9.13"
  }
 },
 "nbformat": 4,
 "nbformat_minor": 5
}
